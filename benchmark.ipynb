{
 "cells": [
  {
   "cell_type": "code",
   "execution_count": 1,
   "metadata": {},
   "outputs": [],
   "source": [
    "# importing libraries\n",
    "\n",
    "import pandas as pd\n",
    "import numpy as np\n",
    "import matplotlib.pyplot as plt\n",
    "import seaborn as sns"
   ]
  },
  {
   "cell_type": "code",
   "execution_count": null,
   "metadata": {},
   "outputs": [],
   "source": [
    "# loading csv file\n",
    "\n",
    "df = pd.read_csv(r'dataset_5secondWindow\\dataset_5secondWindow.csv')\n",
    "df.head()"
   ]
  },
  {
   "cell_type": "code",
   "execution_count": null,
   "metadata": {},
   "outputs": [],
   "source": [
    "df = df.sort_values(by='user', ascending=False)"
   ]
  },
  {
   "cell_type": "code",
   "execution_count": null,
   "metadata": {},
   "outputs": [],
   "source": [
    "df"
   ]
  },
  {
   "cell_type": "code",
   "execution_count": null,
   "metadata": {},
   "outputs": [],
   "source": [
    "df.user.value_counts()"
   ]
  },
  {
   "cell_type": "code",
   "execution_count": null,
   "metadata": {},
   "outputs": [],
   "source": [
    "df.head()"
   ]
  },
  {
   "cell_type": "code",
   "execution_count": null,
   "metadata": {},
   "outputs": [],
   "source": [
    "\n",
    "df = df.drop(['activityrecognition#0'], axis=1)\n",
    "df = df.drop(['user'], axis = 1)"
   ]
  },
  {
   "cell_type": "code",
   "execution_count": null,
   "metadata": {},
   "outputs": [],
   "source": [
    "df = df.fillna(0)"
   ]
  },
  {
   "cell_type": "code",
   "execution_count": null,
   "metadata": {},
   "outputs": [],
   "source": [
    "df"
   ]
  },
  {
   "cell_type": "code",
   "execution_count": null,
   "metadata": {},
   "outputs": [],
   "source": [
    "# ordinal encoding on categorical column\n",
    "\n",
    "from numpy import asarray\n",
    "from sklearn.preprocessing import OrdinalEncoder\n",
    "\n",
    "ct = asarray(df['target'])\n",
    "\n",
    "oe = OrdinalEncoder()\n",
    "\n",
    "df['target'] = oe.fit_transform(ct.reshape(-1,1))\n",
    "\n"
   ]
  },
  {
   "cell_type": "code",
   "execution_count": null,
   "metadata": {},
   "outputs": [],
   "source": []
  },
  {
   "cell_type": "code",
   "execution_count": null,
   "metadata": {},
   "outputs": [],
   "source": [
    "#x and y\n",
    "\n",
    "x = df.iloc[:,:-1]\n",
    "\n",
    "y = df.iloc[:,-1]"
   ]
  },
  {
   "cell_type": "code",
   "execution_count": null,
   "metadata": {},
   "outputs": [],
   "source": [
    "x"
   ]
  },
  {
   "cell_type": "code",
   "execution_count": null,
   "metadata": {},
   "outputs": [],
   "source": [
    "y"
   ]
  },
  {
   "cell_type": "code",
   "execution_count": null,
   "metadata": {},
   "outputs": [],
   "source": [
    "# Spliting the data\n",
    "\n",
    "from sklearn.model_selection import train_test_split\n",
    "\n",
    "x_train, x_test, y_train, y_test = train_test_split(x,y, test_size=0.3, random_state=0)\n"
   ]
  },
  {
   "cell_type": "code",
   "execution_count": null,
   "metadata": {},
   "outputs": [],
   "source": [
    "# normalising data\n",
    "\n",
    "from sklearn.preprocessing import StandardScaler\n",
    "\n",
    "sc = StandardScaler()\n",
    "x_train = sc.fit_transform(x_train)\n",
    "x_test = sc.transform(x_test)"
   ]
  },
  {
   "cell_type": "code",
   "execution_count": null,
   "metadata": {},
   "outputs": [],
   "source": [
    "# importing classifiers and metrics\n",
    "\n",
    "from sklearn.linear_model      import LogisticRegression\n",
    "from sklearn.svm               import SVC\n",
    "from sklearn.tree              import DecisionTreeClassifier\n",
    "from sklearn.ensemble          import ExtraTreesClassifier\n",
    "from sklearn.ensemble          import AdaBoostClassifier\n",
    "from sklearn.experimental      import enable_hist_gradient_boosting \n",
    "from sklearn.ensemble          import HistGradientBoostingClassifier\n",
    "from xgboost                   import XGBClassifier\n",
    "from lightgbm                  import LGBMClassifier\n",
    "from catboost                  import CatBoostClassifier\n",
    "from sklearn.ensemble          import RandomForestClassifier\n",
    "from sklearn.ensemble          import GradientBoostingClassifier\n",
    "from sklearn.pipeline          import make_pipeline\n",
    "import time\n",
    "from sklearn                   import impute, compose, metrics, preprocessing"
   ]
  },
  {
   "cell_type": "code",
   "execution_count": null,
   "metadata": {},
   "outputs": [],
   "source": [
    "# training models\n",
    "\n",
    "classifiers = {\n",
    "  \"Decision Tree\": DecisionTreeClassifier(),\n",
    "  \"Extra Trees\":ExtraTreesClassifier(),\n",
    "  \"Random Forest\":RandomForestClassifier(),\n",
    "  \"AdaBoost\":AdaBoostClassifier(),\n",
    "  \"Skl GBM\": GradientBoostingClassifier(),\n",
    "  \"Skl HistGBM\":HistGradientBoostingClassifier(),\n",
    "  \"XGBoost\": XGBClassifier(),\n",
    "  \"LightGBM\":LGBMClassifier(),\n",
    "  \"CatBoost\": CatBoostClassifier(),\n",
    "  \"SVM\":  SVC(),\n",
    "  \"log_regression\": LogisticRegression()\n",
    "}"
   ]
  },
  {
   "cell_type": "code",
   "execution_count": null,
   "metadata": {},
   "outputs": [],
   "source": [
    "results = pd.DataFrame({'Model': [],  'Accuracy': [], 'Bal Acc.': []})\n",
    "\n",
    "for model_name, model in classifiers.items():\n",
    "    start_time = time.time()\n",
    "    model.fit(x_train, y_train)\n",
    "    pred = model.predict(x_test)\n",
    "    total_time = time.time() - start_time\n",
    "    results = results.append({\"Model\": model_name,\n",
    "                              \"Accuracy\": metrics.accuracy_score(y_test, pred) * 100,\n",
    "                              \"Bal Acc.\": metrics.balanced_accuracy_score(y_test, pred) * 100,\n",
    "                              \"Time\": total_time},\n",
    "                              ignore_index=True)\n",
    "\n",
    "results_ord = results.sort_values(by=['Accuracy'], ascending=False, ignore_index=True)\n",
    "results_ord.index += 1\n",
    "results_ord.style.bar(subset=['Accuracy', 'Bal Acc.'], vmin=0, vmax=100, color='#5fba7d')"
   ]
  }
 ],
 "metadata": {
  "interpreter": {
   "hash": "8e98eea00a698c66ff9007bd5a8bf6209cdaa78d416205c57d24ef9296d8223a"
  },
  "kernelspec": {
   "display_name": "Python 3.7.11 ('strive')",
   "language": "python",
   "name": "python3"
  },
  "language_info": {
   "codemirror_mode": {
    "name": "ipython",
    "version": 3
   },
   "file_extension": ".py",
   "mimetype": "text/x-python",
   "name": "python",
   "nbconvert_exporter": "python",
   "pygments_lexer": "ipython3",
   "version": "3.7.11"
  },
  "orig_nbformat": 4
 },
 "nbformat": 4,
 "nbformat_minor": 2
}
