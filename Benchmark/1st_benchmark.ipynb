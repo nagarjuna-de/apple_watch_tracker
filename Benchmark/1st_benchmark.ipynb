{
 "cells": [
  {
   "cell_type": "code",
   "execution_count": null,
   "metadata": {},
   "outputs": [],
   "source": [
    "import time\n",
    "from IPython.display import clear_output\n",
    "import numpy    as np\n",
    "import pandas   as pd\n",
    "import seaborn  as sns\n",
    "import matplotlib.pyplot as plt\n",
    "import sklearn  as skl\n",
    "from numpy import asarray\n",
    "\n",
    "from sklearn.pipeline import make_pipeline\n",
    "from sklearn.pipeline import Pipeline      \n",
    "from sklearn.preprocessing import OrdinalEncoder, LabelEncoder\n",
    "from sklearn.impute import SimpleImputer\n",
    "from sklearn.compose import ColumnTransformer\n",
    "from sklearn.model_selection import train_test_split \n",
    "from sklearn.model_selection import StratifiedKFold\n",
    "from sklearn.model_selection import cross_val_predict\n",
    "from sklearn.metrics import accuracy_score, balanced_accuracy_score, plot_confusion_matrix\n",
    "from sklearn import set_config\n",
    "\n",
    "set_config(display='diagram') # Useful for display the pipeline\n",
    "from sklearn.tree          import DecisionTreeClassifier\n",
    "from sklearn.ensemble      import RandomForestClassifier\n",
    "from sklearn.ensemble      import ExtraTreesClassifier\n",
    "from sklearn.ensemble      import AdaBoostClassifier\n",
    "from sklearn.ensemble      import GradientBoostingClassifier\n",
    "from sklearn.experimental  import enable_hist_gradient_boosting # Necesary for HistGradientBoostingClassifier\n",
    "from sklearn.ensemble      import HistGradientBoostingClassifier\n",
    "from xgboost               import XGBClassifier\n",
    "from lightgbm              import LGBMClassifier\n",
    "from catboost              import CatBoostClassifier\n",
    "from sklearn.svm           import SVC\n",
    "\n",
    "from sklearn.metrics import r2_score, mean_squared_error, mean_absolute_error"
   ]
  },
  {
   "cell_type": "code",
   "execution_count": null,
   "metadata": {},
   "outputs": [],
   "source": [
    "# Getting the dataset\n",
    "data = pd.read_csv(r'C:\\Users\\rnr31\\Documents\\GitHub\\apple_watch_tracker\\dataset_5sec.csv')\n",
    "data"
   ]
  },
  {
   "cell_type": "code",
   "execution_count": null,
   "metadata": {},
   "outputs": [],
   "source": [
    "data.drop(['Unnamed: 0','id', 'activityrecognition#0','user'],axis=1, inplace=True)\n",
    "data_col = ['time','activityrecognition_1']\n",
    "for i in data.columns[2:58]:\n",
    "    b = i.split('.')[2].split('#')\n",
    "    data_col.append(f'{b[0]}_{b[1]}')\n",
    "\n",
    "for i in data.columns[58:66]:\n",
    "    b = i.split('#')\n",
    "    data_col.append(f'{b[0]}_{b[1]}')\n",
    "\n",
    "data_col.append('target')\n",
    "data = pd.DataFrame.from_records(data.values)\n",
    "data.columns = data_col\n",
    "\n",
    "data.head()\n"
   ]
  },
  {
   "cell_type": "code",
   "execution_count": null,
   "metadata": {},
   "outputs": [],
   "source": [
    "\n",
    "data['target']= data['target'].apply({'Bus':0, 'car':1, 'Still':2, 'Train':3, 'Walking':4}.get)\n",
    "data.head()"
   ]
  },
  {
   "cell_type": "code",
   "execution_count": null,
   "metadata": {},
   "outputs": [],
   "source": [
    "x = data.drop(['target'], axis=1)\n",
    "y = data['target']\n"
   ]
  },
  {
   "cell_type": "code",
   "execution_count": null,
   "metadata": {},
   "outputs": [],
   "source": [
    "x= x.fillna(0)\n",
    "x"
   ]
  },
  {
   "cell_type": "code",
   "execution_count": null,
   "metadata": {},
   "outputs": [],
   "source": [
    "x_train, x_test, y_train, y_test = train_test_split(x,y,test_size=0.3, random_state=0, stratify=y)"
   ]
  },
  {
   "cell_type": "code",
   "execution_count": null,
   "metadata": {},
   "outputs": [],
   "source": [
    "\n",
    "tree_classifiers = {\n",
    "  \"Decision Tree\": DecisionTreeClassifier(),\n",
    "  \"Extra Trees\": ExtraTreesClassifier(n_estimators=100),\n",
    "  \"Random Forest\": RandomForestClassifier(n_estimators=100),\n",
    "  \"AdaBoost\": AdaBoostClassifier(n_estimators=100),\n",
    "  \"Skl GBM\": GradientBoostingClassifier(n_estimators=100),\n",
    "  \"Skl HistGBM\": HistGradientBoostingClassifier(max_iter=100),\n",
    "  \"XGBoost\": XGBClassifier(n_estimators=100),\n",
    "  \"LightGBM\": LGBMClassifier(n_estimators=100),\n",
    "  \"CatBoost\":  CatBoostClassifier(n_estimators=100),\n",
    "}"
   ]
  },
  {
   "cell_type": "code",
   "execution_count": null,
   "metadata": {},
   "outputs": [],
   "source": [
    "tree_classifiers = {name: make_pipeline(model) for name, model in tree_classifiers.items()}\n",
    "\n",
    "results = pd.DataFrame({'Model': [], 'Accuracy': [], 'Bal Acc.': [], 'Time': []})"
   ]
  },
  {
   "cell_type": "code",
   "execution_count": null,
   "metadata": {},
   "outputs": [],
   "source": [
    "rang = abs(y_train.max()) + abs(y_train.min())\n",
    "for model_name, model in tree_classifiers.items():\n",
    "    \n",
    "    start_time = time.time()\n",
    "    model.fit(x_train, y_train)\n",
    "    total_time = time.time() - start_time\n",
    "        \n",
    "    pred = model.predict(x_test)\n",
    "    \n",
    "    results = results.append({\"Model\":    model_name,\n",
    "                              \"Accuracy\": accuracy_score(y_test, pred)*100,\n",
    "                              \"Bal Acc.\": balanced_accuracy_score(y_test, pred)*100,\n",
    "                              \"Time\":     total_time},\n",
    "                              ignore_index=True)\n",
    "                              \n",
    "                              \n",
    "results_ord = results.sort_values(by=['Accuracy'], ascending=False, ignore_index=True)\n",
    "results_ord.index += 1 \n",
    "results_ord.style.bar(subset=['Accuracy', 'Bal Acc.'], vmin=0, vmax=100, color='#5fba7d')"
   ]
  },
  {
   "cell_type": "code",
   "execution_count": null,
   "metadata": {},
   "outputs": [],
   "source": [
    "results_ord"
   ]
  },
  {
   "cell_type": "code",
   "execution_count": null,
   "metadata": {},
   "outputs": [],
   "source": [
    "df = pd.read_csv(r'C:\\Users\\rnr31\\Documents\\GitHub\\apple_watch_tracker\\dataset_0.5sec.csv')\n",
    "df"
   ]
  },
  {
   "cell_type": "code",
   "execution_count": null,
   "metadata": {},
   "outputs": [],
   "source": [
    "df.drop(['Unnamed: 0','id', 'activityrecognition#0','user'],axis=1, inplace=True)\n",
    "data_col_new = ['time','activityrecognition_1']\n",
    "for i in df.columns[2:58]:\n",
    "    b = i.split('.')[2].split('#')\n",
    "    data_col_new.append(f'{b[0]}_{b[1]}')\n",
    "\n",
    "for i in df.columns[58:66]:\n",
    "    b = i.split('#')\n",
    "    data_col_new.append(f'{b[0]}_{b[1]}')\n",
    "\n",
    "data_col_new.append('target')\n",
    "df = pd.DataFrame.from_records(df.values)\n",
    "df.columns = data_col_new\n",
    "\n",
    "ct = asarray(df['target'])\n",
    "\n",
    "df['target'] = oe.fit_transform(ct.reshape(-1,1))"
   ]
  },
  {
   "cell_type": "code",
   "execution_count": null,
   "metadata": {},
   "outputs": [],
   "source": [
    "x_new = data.drop(['target'], axis=1)\n",
    "y_new = data['target']\n",
    "\n",
    "x_new = x_new.fillna(0)\n",
    "\n",
    "x_train_check, x_test_check, y_train_check, y_test_check = train_test_split(x_new, y_new, random_state=0, test_size=0.5, stratify=y_new) \n",
    "\n"
   ]
  },
  {
   "cell_type": "code",
   "execution_count": null,
   "metadata": {},
   "outputs": [],
   "source": [
    "rang = abs(y_train_check.max()) + abs(y_train_check.min())\n",
    "results_train_check = pd.DataFrame({'Model': [], 'Accuracy': [], 'Bal Acc.': [], 'Time': []})\n",
    "for model_name, model in tree_classifiers.items():\n",
    "    \n",
    "    start_time = time.time()\n",
    "    model.fit(x_train, y_train)\n",
    "    total_time = time.time() - start_time\n",
    "        \n",
    "    pred = model.predict(x_train_check)\n",
    "    \n",
    "    results_train_check = results_train_check.append({\"Model\":    model_name,\n",
    "                            \"Accuracy\": accuracy_score(y_train_check, pred)*100,\n",
    "                            \"Bal Acc.\": balanced_accuracy_score(y_train_check, pred)*100,\n",
    "                            \"Time\":     total_time},\n",
    "                            ignore_index=True)\n",
    "    \n",
    "\n",
    "results_train_check_ord = results_train_check.sort_values(by=['Accuracy'], ascending=False, ignore_index=True)\n",
    "results_train_check_ord.index += 1 \n",
    "results_train_check_ord.style.bar(subset=['Accuracy', 'Bal Acc.'], vmin=0, vmax=100, color='#5fba7d')"
   ]
  },
  {
   "cell_type": "code",
   "execution_count": null,
   "metadata": {},
   "outputs": [],
   "source": [
    "results_train_check_ord"
   ]
  },
  {
   "cell_type": "code",
   "execution_count": null,
   "metadata": {},
   "outputs": [],
   "source": [
    "rang = abs(y_test_check.max()) + abs(y_test_check.min())\n",
    "results_test_check = pd.DataFrame({'Model': [], 'Accuracy': [], 'Bal Acc.': [], 'Time': []})\n",
    "for model_name, model in tree_classifiers.items():\n",
    "    \n",
    "    start_time = time.time()\n",
    "    model.fit(x_train, y_train)\n",
    "    total_time = time.time() - start_time\n",
    "        \n",
    "    pred = model.predict(x_test_check)\n",
    "\n",
    "    results_test_check = results_test_check.append({\"Model\":    model_name,\n",
    "                        \"Accuracy\": accuracy_score(y_test_check, pred)*100,\n",
    "                        \"Bal Acc.\": balanced_accuracy_score(y_test_check, pred)*100,\n",
    "                        \"Time\":     total_time},\n",
    "                        ignore_index=True)\n",
    "    \n",
    "    \n",
    "\n",
    "\n",
    "results_test_check_ord = results_test_check.sort_values(by=['Accuracy'], ascending=False, ignore_index=True)\n",
    "results_test_check_ord.index += 1 \n",
    "results_test_check_ord.style.bar(subset=['Accuracy', 'Bal Acc.'], vmin=0, vmax=100, color='#5fba7d')"
   ]
  },
  {
   "cell_type": "code",
   "execution_count": null,
   "metadata": {},
   "outputs": [],
   "source": [
    "results_test_check_ord"
   ]
  }
 ],
 "metadata": {
  "interpreter": {
   "hash": "6dd76bf1bda3cfcc2b9c79ebe58e8411420a10c087c30911fe701ec6ed40def1"
  },
  "kernelspec": {
   "display_name": "Python 3.9.7 ('ds22')",
   "language": "python",
   "name": "python3"
  },
  "language_info": {
   "codemirror_mode": {
    "name": "ipython",
    "version": 3
   },
   "file_extension": ".py",
   "mimetype": "text/x-python",
   "name": "python",
   "nbconvert_exporter": "python",
   "pygments_lexer": "ipython3",
   "version": "3.8.12"
  },
  "orig_nbformat": 4
 },
 "nbformat": 4,
 "nbformat_minor": 2
}
