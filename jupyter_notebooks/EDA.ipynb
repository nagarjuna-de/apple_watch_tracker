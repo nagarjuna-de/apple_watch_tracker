{
 "cells": [
  {
   "cell_type": "code",
   "execution_count": 4,
   "metadata": {},
   "outputs": [],
   "source": [
    "#### Importing libraries.\n",
    "\n",
    "import pandas as pd\n",
    "import numpy as np\n",
    "import re\n",
    "import matplotlib.pyplot as plt\n",
    "import seaborn as sns\n",
    "import plotly.express as px\n",
    "from plotly.subplots import make_subplots\n",
    "import plotly.graph_objects as go\n",
    "from pandas.plotting import register_matplotlib_converters #Register pandas formatters and converters with matplotlib.\n",
    "from pylab import rcParams # for customizing matplotlib graphs.\n",
    "sns.set_style(\"whitegrid\") # This one is very important to keep overall plot background as white"
   ]
  },
  {
   "cell_type": "code",
   "execution_count": 3,
   "metadata": {},
   "outputs": [
    {
     "data": {
      "text/html": [
       "<div>\n",
       "<style scoped>\n",
       "    .dataframe tbody tr th:only-of-type {\n",
       "        vertical-align: middle;\n",
       "    }\n",
       "\n",
       "    .dataframe tbody tr th {\n",
       "        vertical-align: top;\n",
       "    }\n",
       "\n",
       "    .dataframe thead th {\n",
       "        text-align: right;\n",
       "    }\n",
       "</style>\n",
       "<table border=\"1\" class=\"dataframe\">\n",
       "  <thead>\n",
       "    <tr style=\"text-align: right;\">\n",
       "      <th></th>\n",
       "      <th>Unnamed: 0</th>\n",
       "      <th>id</th>\n",
       "      <th>time</th>\n",
       "      <th>activityrecognition#0</th>\n",
       "      <th>activityrecognition#1</th>\n",
       "      <th>android.sensor.accelerometer#mean</th>\n",
       "      <th>android.sensor.accelerometer#min</th>\n",
       "      <th>android.sensor.accelerometer#max</th>\n",
       "      <th>android.sensor.accelerometer#std</th>\n",
       "      <th>android.sensor.game_rotation_vector#mean</th>\n",
       "      <th>...</th>\n",
       "      <th>sound#mean</th>\n",
       "      <th>sound#min</th>\n",
       "      <th>sound#max</th>\n",
       "      <th>sound#std</th>\n",
       "      <th>speed#mean</th>\n",
       "      <th>speed#min</th>\n",
       "      <th>speed#max</th>\n",
       "      <th>speed#std</th>\n",
       "      <th>target</th>\n",
       "      <th>user</th>\n",
       "    </tr>\n",
       "  </thead>\n",
       "  <tbody>\n",
       "    <tr>\n",
       "      <th>0</th>\n",
       "      <td>0</td>\n",
       "      <td>16170</td>\n",
       "      <td>78.0</td>\n",
       "      <td>NaN</td>\n",
       "      <td>100.0</td>\n",
       "      <td>9.811476</td>\n",
       "      <td>9.758895</td>\n",
       "      <td>9.849411</td>\n",
       "      <td>0.014626</td>\n",
       "      <td>0.029340</td>\n",
       "      <td>...</td>\n",
       "      <td>NaN</td>\n",
       "      <td>NaN</td>\n",
       "      <td>NaN</td>\n",
       "      <td>NaN</td>\n",
       "      <td>0.000000</td>\n",
       "      <td>0.000000</td>\n",
       "      <td>0.000000</td>\n",
       "      <td>0.000000</td>\n",
       "      <td>Still</td>\n",
       "      <td>U12</td>\n",
       "    </tr>\n",
       "    <tr>\n",
       "      <th>1</th>\n",
       "      <td>1</td>\n",
       "      <td>15871</td>\n",
       "      <td>145.0</td>\n",
       "      <td>NaN</td>\n",
       "      <td>100.0</td>\n",
       "      <td>9.939207</td>\n",
       "      <td>7.707437</td>\n",
       "      <td>17.146631</td>\n",
       "      <td>1.775944</td>\n",
       "      <td>0.999925</td>\n",
       "      <td>...</td>\n",
       "      <td>89.200210</td>\n",
       "      <td>89.065143</td>\n",
       "      <td>89.335277</td>\n",
       "      <td>0.191013</td>\n",
       "      <td>16.539349</td>\n",
       "      <td>16.539349</td>\n",
       "      <td>16.539349</td>\n",
       "      <td>0.628595</td>\n",
       "      <td>Car</td>\n",
       "      <td>U12</td>\n",
       "    </tr>\n",
       "    <tr>\n",
       "      <th>2</th>\n",
       "      <td>2</td>\n",
       "      <td>16811</td>\n",
       "      <td>150.0</td>\n",
       "      <td>NaN</td>\n",
       "      <td>100.0</td>\n",
       "      <td>9.827178</td>\n",
       "      <td>9.804817</td>\n",
       "      <td>9.849262</td>\n",
       "      <td>0.011199</td>\n",
       "      <td>0.665215</td>\n",
       "      <td>...</td>\n",
       "      <td>NaN</td>\n",
       "      <td>NaN</td>\n",
       "      <td>NaN</td>\n",
       "      <td>NaN</td>\n",
       "      <td>0.000000</td>\n",
       "      <td>0.000000</td>\n",
       "      <td>0.000000</td>\n",
       "      <td>0.000000</td>\n",
       "      <td>Still</td>\n",
       "      <td>U12</td>\n",
       "    </tr>\n",
       "    <tr>\n",
       "      <th>3</th>\n",
       "      <td>3</td>\n",
       "      <td>15831</td>\n",
       "      <td>105.0</td>\n",
       "      <td>NaN</td>\n",
       "      <td>77.0</td>\n",
       "      <td>9.673039</td>\n",
       "      <td>7.659674</td>\n",
       "      <td>12.304298</td>\n",
       "      <td>0.862553</td>\n",
       "      <td>0.996221</td>\n",
       "      <td>...</td>\n",
       "      <td>87.470377</td>\n",
       "      <td>87.470377</td>\n",
       "      <td>87.470377</td>\n",
       "      <td>2.284186</td>\n",
       "      <td>17.739895</td>\n",
       "      <td>17.739895</td>\n",
       "      <td>17.739895</td>\n",
       "      <td>0.628595</td>\n",
       "      <td>Car</td>\n",
       "      <td>U12</td>\n",
       "    </tr>\n",
       "    <tr>\n",
       "      <th>4</th>\n",
       "      <td>4</td>\n",
       "      <td>876</td>\n",
       "      <td>77.0</td>\n",
       "      <td>NaN</td>\n",
       "      <td>100.0</td>\n",
       "      <td>9.993466</td>\n",
       "      <td>8.965621</td>\n",
       "      <td>10.891645</td>\n",
       "      <td>0.504117</td>\n",
       "      <td>0.563792</td>\n",
       "      <td>...</td>\n",
       "      <td>89.770732</td>\n",
       "      <td>89.770732</td>\n",
       "      <td>89.770732</td>\n",
       "      <td>0.006389</td>\n",
       "      <td>9.000000</td>\n",
       "      <td>9.000000</td>\n",
       "      <td>9.000000</td>\n",
       "      <td>NaN</td>\n",
       "      <td>Car</td>\n",
       "      <td>U1</td>\n",
       "    </tr>\n",
       "  </tbody>\n",
       "</table>\n",
       "<p>5 rows × 71 columns</p>\n",
       "</div>"
      ],
      "text/plain": [
       "   Unnamed: 0     id   time  activityrecognition#0  activityrecognition#1  \\\n",
       "0           0  16170   78.0                    NaN                  100.0   \n",
       "1           1  15871  145.0                    NaN                  100.0   \n",
       "2           2  16811  150.0                    NaN                  100.0   \n",
       "3           3  15831  105.0                    NaN                   77.0   \n",
       "4           4    876   77.0                    NaN                  100.0   \n",
       "\n",
       "   android.sensor.accelerometer#mean  android.sensor.accelerometer#min  \\\n",
       "0                           9.811476                          9.758895   \n",
       "1                           9.939207                          7.707437   \n",
       "2                           9.827178                          9.804817   \n",
       "3                           9.673039                          7.659674   \n",
       "4                           9.993466                          8.965621   \n",
       "\n",
       "   android.sensor.accelerometer#max  android.sensor.accelerometer#std  \\\n",
       "0                          9.849411                          0.014626   \n",
       "1                         17.146631                          1.775944   \n",
       "2                          9.849262                          0.011199   \n",
       "3                         12.304298                          0.862553   \n",
       "4                         10.891645                          0.504117   \n",
       "\n",
       "   android.sensor.game_rotation_vector#mean  ...  sound#mean  sound#min  \\\n",
       "0                                  0.029340  ...         NaN        NaN   \n",
       "1                                  0.999925  ...   89.200210  89.065143   \n",
       "2                                  0.665215  ...         NaN        NaN   \n",
       "3                                  0.996221  ...   87.470377  87.470377   \n",
       "4                                  0.563792  ...   89.770732  89.770732   \n",
       "\n",
       "   sound#max  sound#std  speed#mean  speed#min  speed#max  speed#std  target  \\\n",
       "0        NaN        NaN    0.000000   0.000000   0.000000   0.000000   Still   \n",
       "1  89.335277   0.191013   16.539349  16.539349  16.539349   0.628595     Car   \n",
       "2        NaN        NaN    0.000000   0.000000   0.000000   0.000000   Still   \n",
       "3  87.470377   2.284186   17.739895  17.739895  17.739895   0.628595     Car   \n",
       "4  89.770732   0.006389    9.000000   9.000000   9.000000        NaN     Car   \n",
       "\n",
       "   user  \n",
       "0   U12  \n",
       "1   U12  \n",
       "2   U12  \n",
       "3   U12  \n",
       "4    U1  \n",
       "\n",
       "[5 rows x 71 columns]"
      ]
     },
     "execution_count": 3,
     "metadata": {},
     "output_type": "execute_result"
    }
   ],
   "source": [
    "## Reading CSV file from dataset\n",
    "data = pd.read_csv(r'C:\\Users\\rnr31\\Documents\\GitHub\\apple_watch_tracker\\dataset_5sec.csv')\n",
    "data.head()"
   ]
  },
  {
   "cell_type": "code",
   "execution_count": 14,
   "metadata": {},
   "outputs": [],
   "source": [
    "missing_num = data.isnull().sum()"
   ]
  },
  {
   "cell_type": "code",
   "execution_count": null,
   "metadata": {},
   "outputs": [],
   "source": []
  },
  {
   "cell_type": "code",
   "execution_count": 20,
   "metadata": {},
   "outputs": [],
   "source": [
    "len(data)\n",
    "missing_percent = missing_num/len(data)\n",
    "final_missing = missing_percent.round(4)*100\n",
    "final_missing.to_csv('missing_percent.csv')"
   ]
  },
  {
   "cell_type": "code",
   "execution_count": 8,
   "metadata": {},
   "outputs": [
    {
     "data": {
      "text/plain": [
       "<AxesSubplot:xlabel='target', ylabel='activityrecognition#1'>"
      ]
     },
     "execution_count": 8,
     "metadata": {},
     "output_type": "execute_result"
    },
    {
     "data": {
      "image/png": "[encoded data removed]",
      "text/plain": [
       "<Figure size 432x288 with 1 Axes>"
      ]
     },
     "metadata": {},
     "output_type": "display_data"
    }
   ],
   "source": [
    "df1 = data.groupby(['target'], as_index=False)['activityrecognition#1'].mean()\n",
    "sns.barplot(x=df1['target'], y=df1['activityrecognition#1'], hue='target', data= df1)"
   ]
  },
  {
   "cell_type": "code",
   "execution_count": 9,
   "metadata": {},
   "outputs": [
    {
     "data": {
      "text/plain": [
       "<AxesSubplot:xlabel='target', ylabel='activityrecognition#1'>"
      ]
     },
     "execution_count": 9,
     "metadata": {},
     "output_type": "execute_result"
    },
    {
     "data": {
      "image/png": "[encoded data removed]",
      "text/plain": [
       "<Figure size 432x288 with 1 Axes>"
      ]
     },
     "metadata": {},
     "output_type": "display_data"
    }
   ],
   "source": [
    "df1 = data.groupby(['target'], as_index=False)['activityrecognition#1'].median()\n",
    "sns.barplot(x=df1['target'], y=df1['activityrecognition#1'], hue='target', data= df1)"
   ]
  },
  {
   "cell_type": "code",
   "execution_count": 21,
   "metadata": {},
   "outputs": [
    {
     "data": {
      "text/plain": [
       "<AxesSubplot:xlabel='target', ylabel='activityrecognition#1'>"
      ]
     },
     "execution_count": 21,
     "metadata": {},
     "output_type": "execute_result"
    },
    {
     "data": {
      "image/png": "[encoded data removed]",
      "text/plain": [
       "<Figure size 432x288 with 1 Axes>"
      ]
     },
     "metadata": {},
     "output_type": "display_data"
    }
   ],
   "source": [
    "df1 = data.groupby(['target'], as_index=False)['activityrecognition#1'].min()\n",
    "sns.barplot(x=df1['target'], y=df1['activityrecognition#1'], hue='target', data= df1)"
   ]
  },
  {
   "cell_type": "code",
   "execution_count": 22,
   "metadata": {},
   "outputs": [
    {
     "data": {
      "text/plain": [
       "<AxesSubplot:xlabel='target', ylabel='activityrecognition#1'>"
      ]
     },
     "execution_count": 22,
     "metadata": {},
     "output_type": "execute_result"
    },
    {
     "data": {
      "image/png": "[encoded data removed]",
      "text/plain": [
       "<Figure size 432x288 with 1 Axes>"
      ]
     },
     "metadata": {},
     "output_type": "display_data"
    }
   ],
   "source": [
    "df1 = data.groupby(['target'], as_index=False)['activityrecognition#1'].max()\n",
    "sns.barplot(x=df1['target'], y=df1['activityrecognition#1'], hue='target', data= df1)"
   ]
  },
  {
   "cell_type": "code",
   "execution_count": 23,
   "metadata": {},
   "outputs": [
    {
     "data": {
      "text/plain": [
       "<AxesSubplot:xlabel='target', ylabel='activityrecognition#1'>"
      ]
     },
     "execution_count": 23,
     "metadata": {},
     "output_type": "execute_result"
    },
    {
     "data": {
      "image/png": "[encoded data removed]",
      "text/plain": [
       "<Figure size 432x288 with 1 Axes>"
      ]
     },
     "metadata": {},
     "output_type": "display_data"
    }
   ],
   "source": [
    "df1 = data.groupby(['target'], as_index=False)['activityrecognition#1'].std()\n",
    "sns.barplot(x=df1['target'], y=df1['activityrecognition#1'], hue='target', data= df1)"
   ]
  },
  {
   "cell_type": "code",
   "execution_count": 24,
   "metadata": {},
   "outputs": [
    {
     "data": {
      "text/plain": [
       "0       False\n",
       "1       False\n",
       "2       False\n",
       "3       False\n",
       "4       False\n",
       "        ...  \n",
       "5888    False\n",
       "5889    False\n",
       "5890    False\n",
       "5891    False\n",
       "5892    False\n",
       "Length: 5893, dtype: bool"
      ]
     },
     "execution_count": 24,
     "metadata": {},
     "output_type": "execute_result"
    }
   ],
   "source": [
    "data['testing']= data['android.sensor.accelerometer#max']-data['android.sensor.accelerometer#min']\n",
    "data['testing']==data['android.sensor.accelerometer#std']"
   ]
  }
 ],
 "metadata": {
  "interpreter": {
   "hash": "6dd76bf1bda3cfcc2b9c79ebe58e8411420a10c087c30911fe701ec6ed40def1"
  },
  "kernelspec": {
   "display_name": "Python 3.9.7 ('ds22')",
   "language": "python",
   "name": "python3"
  },
  "language_info": {
   "codemirror_mode": {
    "name": "ipython",
    "version": 3
   },
   "file_extension": ".py",
   "mimetype": "text/x-python",
   "name": "python",
   "nbconvert_exporter": "python",
   "pygments_lexer": "ipython3",
   "version": "3.9.7"
  },
  "orig_nbformat": 4
 },
 "nbformat": 4,
 "nbformat_minor": 2
}
